{
  "nbformat": 4,
  "nbformat_minor": 0,
  "metadata": {
    "colab": {
      "provenance": []
    },
    "kernelspec": {
      "name": "python3",
      "display_name": "Python 3"
    },
    "language_info": {
      "name": "python"
    }
  },
  "cells": [
    {
      "cell_type": "code",
      "source": [
        "import pandas as pd\n",
        "import numpy as np\n",
        "import plotly.express as px\n",
        "import plotly.graph_objects as go\n",
        "import plotly.io as pio\n",
        "pio.templates.default = \"plotly_white\"\n",
        "\n",
        "data = pd.read_csv(\"train.csv\")\n",
        "print(data.head())"
      ],
      "metadata": {
        "id": "O9dqJDkxtoCP"
      },
      "execution_count": null,
      "outputs": []
    },
    {
      "cell_type": "code",
      "source": [
        "data = data.reset_index()"
      ],
      "metadata": {
        "id": "6Nfwb9z6U_kW"
      },
      "execution_count": 10,
      "outputs": []
    },
    {
      "cell_type": "code",
      "source": [
        "# veamos la informacion de las columnas\n",
        "\n",
        "print(data.info())"
      ],
      "metadata": {
        "id": "z4CpDqsdtntJ"
      },
      "execution_count": null,
      "outputs": []
    },
    {
      "cell_type": "code",
      "source": [
        "print(data.isnull().sum())"
      ],
      "metadata": {
        "id": "xAHOTG8Stno4"
      },
      "execution_count": null,
      "outputs": []
    },
    {
      "cell_type": "code",
      "source": [
        "from pandas.core.base import value_counts\n",
        "data[\"Credit_Score\"].value_counts()"
      ],
      "metadata": {
        "id": "qm8N6IG8tm6S"
      },
      "execution_count": null,
      "outputs": []
    },
    {
      "cell_type": "code",
      "source": [
        "#Exploracion de los datos\n",
        "# Empezaremos con explorar la ocupacion de las personas para saber si esto afecta el score crediticio"
      ],
      "metadata": {
        "id": "VIlCPr_Ltmyz"
      },
      "execution_count": 14,
      "outputs": []
    },
    {
      "cell_type": "code",
      "source": [
        "fig = px.box(data, \n",
        "             x=\"Occupation\",  \n",
        "             color=\"Credit_Score\", \n",
        "             title=\"Credit Scores Based on Occupation\", \n",
        "             color_discrete_map={'Poor':'red',\n",
        "                                 'Standard':'yellow',\n",
        "                                 'Good':'green'})\n",
        "fig.show()"
      ],
      "metadata": {
        "id": "RCrjqC1Gtmmb"
      },
      "execution_count": null,
      "outputs": []
    },
    {
      "cell_type": "code",
      "source": [
        "# Como vemos no hay diferencia, ahora vamos a explorar si el ingreso anual de las personas\n",
        "# impacta su score crediticio"
      ],
      "metadata": {
        "id": "4riX1hJyWMiY"
      },
      "execution_count": 16,
      "outputs": []
    },
    {
      "cell_type": "code",
      "source": [
        "fig = px.box(data,\n",
        "             x=\"Credit_Score\",\n",
        "             y=\"Annual_Income\",\n",
        "             color=\"Credit_Score\",\n",
        "             title=\"Credit Scores Based on Annual Income\",\n",
        "             color_discrete_map={\"Poor\":\"red\",\n",
        "                                 \"Standard\":\"yellow\",\n",
        "                                 \"Good\":\"green\"})\n",
        "fig.update_traces(quartilemethod=\"exclusive\")\n",
        "fig.show()"
      ],
      "metadata": {
        "id": "agSsb_42WMSV"
      },
      "execution_count": null,
      "outputs": []
    },
    {
      "cell_type": "code",
      "source": [
        "# De acuerdo a la grafica anterior entre mas ganas anualmente mejor es tu score crediticio.\n",
        "# Ahora veamos si el salario mensual afecta el score."
      ],
      "metadata": {
        "id": "J2_If44eWMH6"
      },
      "execution_count": 18,
      "outputs": []
    },
    {
      "cell_type": "code",
      "source": [
        "fig = px.box(data,\n",
        "             x=\"Credit_Score\",\n",
        "             y=\"Monthly_Inhand_Salary\",\n",
        "             color=\"Credit_Score\",\n",
        "             title=\"Credit Scores Based on Monthly Inhand Salary\",\n",
        "             color_discrete_map={\"Poor\":\"red\",\n",
        "                                 \"Standard\":\"yellow\",\n",
        "                                 \"Good\":\"green\"})\n",
        "fig.update_traces(quartilemethod=\"exclusive\")\n",
        "fig.show()"
      ],
      "metadata": {
        "id": "p3GkZLUfYr25"
      },
      "execution_count": null,
      "outputs": []
    },
    {
      "cell_type": "code",
      "source": [
        "# Al igual que con el ingreso anual, el salario mensual tiene que ver con el score crediticio.\n",
        "# Veamos si tener mas cuantas bancarias impacta en el score crediticio"
      ],
      "metadata": {
        "id": "nGMY44BZtmf7"
      },
      "execution_count": 20,
      "outputs": []
    },
    {
      "cell_type": "code",
      "source": [
        "fig = px.box(data,\n",
        "             x=\"Credit_Score\",\n",
        "             y=\"Num_Bank_Accounts\",\n",
        "             color=\"Credit_Score\",\n",
        "             title=\"Credit Scores Based on Number of Bank Accounts\",\n",
        "             color_discrete_map={\"Poor\":\"red\",\n",
        "                                 \"Standard\":\"yellow\",\n",
        "                                 \"Good\":\"green\"})\n",
        "fig.update_traces(quartilemethod=\"exclusive\")\n",
        "fig.show()"
      ],
      "metadata": {
        "id": "Hwqk4dhGYrOg"
      },
      "execution_count": null,
      "outputs": []
    },
    {
      "cell_type": "code",
      "source": [
        "# Tener mas de 5 cuentas afecta tu buen score crediticio.\n",
        "# Veamos el impacto en el score crediticio basado en el numero de tarjetas de credito."
      ],
      "metadata": {
        "id": "aVYT4uRGYrFK"
      },
      "execution_count": 22,
      "outputs": []
    },
    {
      "cell_type": "code",
      "source": [
        "fig = px.box(data, \n",
        "             x=\"Credit_Score\", \n",
        "             y=\"Num_Credit_Card\", \n",
        "             color=\"Credit_Score\",\n",
        "             title=\"Credit Scores Based on Number of Credit cards\", \n",
        "             color_discrete_map={'Poor':'red',\n",
        "                                 'Standard':'yellow',\n",
        "                                 'Good':'green'})\n",
        "fig.update_traces(quartilemethod=\"exclusive\")\n",
        "fig.show()"
      ],
      "metadata": {
        "id": "XboFjzWNYpPt"
      },
      "execution_count": null,
      "outputs": []
    },
    {
      "cell_type": "code",
      "source": [
        "# Al igual que con las cuentas de banco, tener mas de 5 targetas impacta negativamente e el score crediticio.\n",
        "# Veamos el impacto en el score crediticio basado en cuanto se paga de intereses."
      ],
      "metadata": {
        "id": "wL60sSk2YpDu"
      },
      "execution_count": 24,
      "outputs": []
    },
    {
      "cell_type": "code",
      "source": [
        "fig = px.box(data, \n",
        "             x=\"Credit_Score\", \n",
        "             y=\"Interest_Rate\", \n",
        "             color=\"Credit_Score\",\n",
        "             title=\"Credit Scores Based on the Average Interest rates\", \n",
        "             color_discrete_map={'Poor':'red',\n",
        "                                 'Standard':'yellow',\n",
        "                                 'Good':'green'})\n",
        "fig.update_traces(quartilemethod=\"exclusive\")\n",
        "fig.show()"
      ],
      "metadata": {
        "id": "4J95knfZbzAo"
      },
      "execution_count": null,
      "outputs": []
    },
    {
      "cell_type": "code",
      "source": [
        "# Tener  intereses de 4-11% es bueno pero tener una tasa de interes de mas de 15% es malo para tu score crediticio.\n",
        "# Veamos cuantos creditos se pueden tomar a la vez para un buen score crediticio."
      ],
      "metadata": {
        "id": "aLxghwjVbydc"
      },
      "execution_count": 26,
      "outputs": []
    },
    {
      "cell_type": "code",
      "source": [
        "fig = px.box(data, \n",
        "             x=\"Credit_Score\", \n",
        "             y=\"Num_of_Loan\", \n",
        "             color=\"Credit_Score\", \n",
        "             title=\"Credit Scores Based on Number of Loans Taken by the Person\",\n",
        "             color_discrete_map={'Poor':'red',\n",
        "                                 'Standard':'yellow',\n",
        "                                 'Good':'green'})\n",
        "fig.update_traces(quartilemethod=\"exclusive\")\n",
        "fig.show()"
      ],
      "metadata": {
        "id": "f1ehmamPbySE"
      },
      "execution_count": null,
      "outputs": []
    },
    {
      "cell_type": "code",
      "source": [
        "# Para tener un buen score crediticio no debestener mas de 1-3 prestamos al mismo tiempo,\n",
        "# Veamos si retrasar los pagos en su fecha de vencimiento afecta el score crediticio."
      ],
      "metadata": {
        "id": "3Rz5cTRxbyDg"
      },
      "execution_count": 28,
      "outputs": []
    },
    {
      "cell_type": "code",
      "source": [
        "fig = px.box(data, \n",
        "             x=\"Credit_Score\", \n",
        "             y=\"Delay_from_due_date\", \n",
        "             color=\"Credit_Score\",\n",
        "             title=\"Credit Scores Based on Average Number of Days Delayed for Credit card Payments\", \n",
        "             color_discrete_map={'Poor':'red',\n",
        "                                 'Standard':'yellow',\n",
        "                                 'Good':'green'})\n",
        "fig.update_traces(quartilemethod=\"exclusive\")\n",
        "fig.show()"
      ],
      "metadata": {
        "id": "s_SfcRPYbx6p"
      },
      "execution_count": null,
      "outputs": []
    },
    {
      "cell_type": "code",
      "source": [
        "# Vemos que podemos retrasar el pago 5-14 dias de la fecha, retrsar los  pagos por mas de 17 dias afecta el score crediticio.\n",
        "# Veamos si retrasar los pagos con frecuencia afecta el score crediticio."
      ],
      "metadata": {
        "id": "o9a0syidJVwj"
      },
      "execution_count": 30,
      "outputs": []
    },
    {
      "cell_type": "code",
      "source": [
        "fig = px.box(data, \n",
        "             x=\"Credit_Score\", \n",
        "             y=\"Num_of_Delayed_Payment\", \n",
        "             color=\"Credit_Score\", \n",
        "             title=\"Credit Scores Based on Number of Delayed Payments\",\n",
        "             color_discrete_map={'Poor':'red',\n",
        "                                 'Standard':'yellow',\n",
        "                                 'Good':'green'})\n",
        "fig.update_traces(quartilemethod=\"exclusive\")\n",
        "fig.show()"
      ],
      "metadata": {
        "id": "Tel_a1OYJVrt"
      },
      "execution_count": null,
      "outputs": []
    },
    {
      "cell_type": "code",
      "source": [
        "# Retrasar el pago 4-12 veces no afecta tu score, pero hacerlo mas de 12 pagos si lo hace negativamente.\n",
        "# Veamos si tener mas deudas afecta tu score crediticio."
      ],
      "metadata": {
        "id": "QY0NLB6UKIgH"
      },
      "execution_count": 32,
      "outputs": []
    },
    {
      "cell_type": "code",
      "source": [
        "fig = px.box(data, \n",
        "             x=\"Credit_Score\", \n",
        "             y=\"Outstanding_Debt\", \n",
        "             color=\"Credit_Score\", \n",
        "             title=\"Credit Scores Based on Outstanding Debt\",\n",
        "             color_discrete_map={'Poor':'red',\n",
        "                                 'Standard':'yellow',\n",
        "                                 'Good':'green'})\n",
        "fig.update_traces(quartilemethod=\"exclusive\")\n",
        "fig.show()"
      ],
      "metadata": {
        "id": "p8N1EnxjKII-"
      },
      "execution_count": null,
      "outputs": []
    },
    {
      "cell_type": "code",
      "source": [
        "# Podemos ver que una deuda de $380-$1150 no afecta tu score, pero tener una deuda de mas de $1338 afecta negtivamente tu score.\n",
        "# Veamos si un indice de utilizacion de credito afectara el score crediticio.\n"
      ],
      "metadata": {
        "id": "NOilZdlVKID4"
      },
      "execution_count": 34,
      "outputs": []
    },
    {
      "cell_type": "code",
      "source": [
        "fig = px.box(data, \n",
        "             x=\"Credit_Score\", \n",
        "             y=\"Credit_Utilization_Ratio\", \n",
        "             color=\"Credit_Score\",\n",
        "             title=\"Credit Scores Based on Credit Utilization Ratio\", \n",
        "             color_discrete_map={'Poor':'red',\n",
        "                                 'Standard':'yellow',\n",
        "                                 'Good':'green'})\n",
        "fig.update_traces(quartilemethod=\"exclusive\")\n",
        "fig.show()"
      ],
      "metadata": {
        "id": "r_w4fAWcKH9K"
      },
      "execution_count": null,
      "outputs": []
    },
    {
      "cell_type": "code",
      "source": [
        "# El indice de utilizacion de credito significa  su deuda total dividida por su credito total disponible,\n",
        "# De acuerdo a lo anterior el indice de utilizacion no afecta el score.\n",
        "# Ahora veamos como la edad del historial crediticio de una persona afecta el score."
      ],
      "metadata": {
        "id": "mkOSt5cfLsI6"
      },
      "execution_count": 36,
      "outputs": []
    },
    {
      "cell_type": "code",
      "source": [
        "fig = px.box(data, \n",
        "             x=\"Credit_Score\", \n",
        "             y=\"Credit_History_Age\", \n",
        "             color=\"Credit_Score\", \n",
        "             title=\"Credit Scores Based on Credit History Age\",\n",
        "             color_discrete_map={'Poor':'red',\n",
        "                                 'Standard':'yellow',\n",
        "                                 'Good':'green'})\n",
        "fig.update_traces(quartilemethod=\"exclusive\")\n",
        "fig.show()"
      ],
      "metadata": {
        "id": "ji6C809ILrrX"
      },
      "execution_count": null,
      "outputs": []
    },
    {
      "cell_type": "code",
      "source": [
        "# Tener una larga historia crediticia resulta en mejores scores.\n",
        "# veamos cuantos EMIs puedes tener en un mes para tener un buen score crediticio."
      ],
      "metadata": {
        "id": "mPZw2t0gLrhM"
      },
      "execution_count": 38,
      "outputs": []
    },
    {
      "cell_type": "code",
      "source": [
        "fig = px.box(data, \n",
        "             x=\"Credit_Score\", \n",
        "             y=\"Total_EMI_per_month\", \n",
        "             color=\"Credit_Score\", \n",
        "             title=\"Credit Scores Based on Total Number of EMIs per Month\",\n",
        "             color_discrete_map={'Poor':'red',\n",
        "                                 'Standard':'yellow',\n",
        "                                 'Good':'green'})\n",
        "fig.update_traces(quartilemethod=\"exclusive\")\n",
        "fig.show()"
      ],
      "metadata": {
        "id": "lPAxpNOoLrbW"
      },
      "execution_count": null,
      "outputs": []
    },
    {
      "cell_type": "code",
      "source": [
        "# El numero de EMIs no afecta tu score crediticio.\n",
        "# Veamos si tus inversiones mensuales afectan tu score crediticio."
      ],
      "metadata": {
        "id": "RViiNUqGNq0m"
      },
      "execution_count": 40,
      "outputs": []
    },
    {
      "cell_type": "code",
      "source": [
        "fig = px.box(data, \n",
        "             x=\"Credit_Score\", \n",
        "             y=\"Amount_invested_monthly\", \n",
        "             color=\"Credit_Score\", \n",
        "             title=\"Credit Scores Based on Amount Invested Monthly\",\n",
        "             color_discrete_map={'Poor':'red',\n",
        "                                 'Standard':'yellow',\n",
        "                                 'Good':'green'})\n",
        "fig.update_traces(quartilemethod=\"exclusive\")\n",
        "fig.show()"
      ],
      "metadata": {
        "id": "_H3JO14mNqtm"
      },
      "execution_count": null,
      "outputs": []
    },
    {
      "cell_type": "code",
      "source": [
        "# Las inversiones mensuales tampoco afectan tu score crediticio.\n",
        "# Ahora veamos si tener una cantidad baja al final del mes afecta el score crediticio."
      ],
      "metadata": {
        "id": "YY0MhLiqNqmf"
      },
      "execution_count": 42,
      "outputs": []
    },
    {
      "cell_type": "code",
      "source": [
        "fig = px.box(data, \n",
        "             x=\"Credit_Score\", \n",
        "             y=\"Monthly_Balance\", \n",
        "             color=\"Credit_Score\", \n",
        "             title=\"Credit Scores Based on Monthly Balance Left\",\n",
        "             color_discrete_map={'Poor':'red',\n",
        "                                 'Standard':'yellow',\n",
        "                                 'Good':'green'})\n",
        "fig.update_traces(quartilemethod=\"exclusive\")\n",
        "fig.show()"
      ],
      "metadata": {
        "id": "TgSJ7eC6NqfW"
      },
      "execution_count": null,
      "outputs": []
    },
    {
      "cell_type": "code",
      "source": [
        "# Tener un saldo mesual alto en tu cuenta al final del mes  es bueno para el score cediticio.\n",
        "# Si el balance es menor de $125 es malo para el score."
      ],
      "metadata": {
        "id": "n02XIxOcNqVq"
      },
      "execution_count": 44,
      "outputs": []
    },
    {
      "cell_type": "markdown",
      "source": [
        "Modelo de Clasificacion de Credito\n",
        "**texto en negrita**\n",
        "\n",
        "Una caracteristica mas importante (Combinacion de creditos) en elconjunto de datos es valiosa para determinar scores crediticios. la funcion de combinacion de creditos informa sobre los tipos de creditos y prestamos que han tomado."
      ],
      "metadata": {
        "id": "nZuGBaimPub1"
      }
    },
    {
      "cell_type": "code",
      "source": [
        "# Como la columna de Credit_Mix es categorica, la transformremos  en una caracteristica numerica \n",
        "# paa que podamos usarla para entrenar el modelo de ML para la  tarea de clasificacion de score crediticio."
      ],
      "metadata": {
        "id": "FpEArjpDNqRY"
      },
      "execution_count": 45,
      "outputs": []
    },
    {
      "cell_type": "code",
      "source": [
        "data[\"Credit_Mix\"] = data[\"Credit_Mix\"].map({\"Standard\": 1, \n",
        "                               \"Good\": 2, \n",
        "                               \"Bad\": 0})"
      ],
      "metadata": {
        "id": "bMOhNLvSQb7l"
      },
      "execution_count": 46,
      "outputs": []
    },
    {
      "cell_type": "code",
      "source": [
        "# Ahora se dividiran los datos en las caracteristicas y etiquetas,\n",
        "# seleccionando las caracteristicas que consideremos importantes para el modelo."
      ],
      "metadata": {
        "id": "tZ4egYo_Qei2"
      },
      "execution_count": 47,
      "outputs": []
    },
    {
      "cell_type": "code",
      "source": [
        "from sklearn.model_selection import train_test_split\n",
        "x = np.array(data[[\"Annual_Income\", \"Monthly_Inhand_Salary\", \n",
        "                   \"Num_Bank_Accounts\", \"Num_Credit_Card\", \n",
        "                   \"Interest_Rate\", \"Num_of_Loan\", \n",
        "                   \"Delay_from_due_date\", \"Num_of_Delayed_Payment\", \n",
        "                   \"Credit_Mix\", \"Outstanding_Debt\", \n",
        "                   \"Credit_History_Age\", \"Monthly_Balance\"]])\n",
        "y = np.array(data[[\"Credit_Score\"]])"
      ],
      "metadata": {
        "id": "KwewkAf5QeR1"
      },
      "execution_count": 48,
      "outputs": []
    },
    {
      "cell_type": "code",
      "source": [
        "# Ahora  dividamos los datos en conjuntos de prueba y entrenamiento y sigamos adelante eentrenando un modelo de clasificacion de score crediticio."
      ],
      "metadata": {
        "id": "YPmrpST3QeGa"
      },
      "execution_count": 49,
      "outputs": []
    },
    {
      "cell_type": "code",
      "source": [
        "xtrain, xtest, ytrain, ytest = train_test_split(x, y, \n",
        "                                                    test_size=0.33, \n",
        "                                                    random_state=42)\n",
        "from sklearn.ensemble import RandomForestClassifier\n",
        "model = RandomForestClassifier()\n",
        "model.fit(xtrain, ytrain)"
      ],
      "metadata": {
        "id": "Lt7xrYRjMUba"
      },
      "execution_count": null,
      "outputs": []
    },
    {
      "cell_type": "code",
      "source": [
        "print(\"Credit Score Prediction : \")\n",
        "a = float(input(\"Annual Income: \"))\n",
        "b = float(input(\"Monthly Inhand Salary: \"))\n",
        "c = float(input(\"Number of Bank Accounts: \"))\n",
        "d = float(input(\"Number of Credit cards: \"))\n",
        "e = float(input(\"Interest rate: \"))\n",
        "f = float(input(\"Number of Loans: \"))\n",
        "g = float(input(\"Average number of days delayed by the person: \"))\n",
        "h = float(input(\"Number of delayed payments: \"))\n",
        "i = input(\"Credit Mix (Bad: 0, Standard: 1, Good: 3) : \")\n",
        "j = float(input(\"Outstanding Debt: \"))\n",
        "k = float(input(\"Credit History Age: \"))\n",
        "l = float(input(\"Monthly Balance: \"))\n",
        "\n",
        "features = np.array([[a, b, c, d, e, f, g, h, i, j, k, l]])\n",
        "print(\"Predicted Credit Score = \", model.predict(features))"
      ],
      "metadata": {
        "colab": {
          "base_uri": "https://localhost:8080/"
        },
        "id": "K-bE4mV3Rt9Z",
        "outputId": "77cf7cd7-f9d8-4c50-eda0-34caec188bdd"
      },
      "execution_count": 51,
      "outputs": [
        {
          "output_type": "stream",
          "name": "stdout",
          "text": [
            "Credit Score Prediction : \n",
            "Annual Income: 19114.12\n",
            "Monthly Inhand Salary: 1824.843333\n",
            "Number of Bank Accounts: 2\n",
            "Number of Credit cards: 2\n",
            "Interest rate: 9\n",
            "Number of Loans: 2\n",
            "Average number of days delayed by the person: 12\n",
            "Number of delayed payments: 3\n",
            "Credit Mix (Bad: 0, Standard: 1, Good: 3) : 3\n",
            "Outstanding Debt: 250\n",
            "Credit History Age: 200\n",
            "Monthly Balance: 310\n",
            "Predicted Credit Score =  ['Good']\n"
          ]
        }
      ]
    },
    {
      "cell_type": "code",
      "source": [],
      "metadata": {
        "id": "37LaT3XwRtv2"
      },
      "execution_count": 51,
      "outputs": []
    }
  ]
}